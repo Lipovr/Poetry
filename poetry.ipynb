{
 "cells": [
  {
   "cell_type": "markdown",
   "metadata": {},
   "source": [
    "## Lab 2"
   ]
  },
  {
   "cell_type": "markdown",
   "metadata": {},
   "source": [
    "### Part 3. Poetry generation\n",
    "\n",
    "Let's try to generate some poetry using RNNs. \n",
    "\n",
    "You have several choices here: \n",
    "\n",
    "* The Shakespeare sonnets, file `sonnets.txt` available in the notebook directory.\n",
    "\n",
    "* Роман в стихах \"Евгений Онегин\" Александра Сергеевича Пушкина. В предобработанном виде доступен по [ссылке](https://github.com/attatrol/data_sources/blob/master/onegin.txt).\n",
    "\n",
    "* Some other text source, if it will be approved by the course staff.\n",
    "\n",
    "Text generation can be designed in several steps:\n",
    "    \n",
    "1. Data loading.\n",
    "2. Dictionary generation.\n",
    "3. Data preprocessing.\n",
    "4. Model (neural network) training.\n",
    "5. Text generation (model evaluation).\n"
   ]
  },
  {
   "cell_type": "code",
   "execution_count": 1,
   "metadata": {},
   "outputs": [],
   "source": [
    "import string\n",
    "import os"
   ]
  },
  {
   "cell_type": "markdown",
   "metadata": {},
   "source": [
    "### Data loading: \"Евгений Онегин\"\n"
   ]
  },
  {
   "cell_type": "code",
   "execution_count": 2,
   "metadata": {},
   "outputs": [],
   "source": [
    "if not os.path.exists('data/onegin.txt'):\n",
    "    !wget https://raw.githubusercontent.com/attatrol/data_sources/master/onegin.txt\n",
    "    \n",
    "with open('data/onegin.txt', 'r', encoding='utf-8') as iofile:\n",
    "    raw_text = iofile.readlines()\n",
    "    \n",
    "raw_text = [x.replace('\\t\\t', '') for x in raw_text]"
   ]
  },
  {
   "cell_type": "markdown",
   "metadata": {},
   "source": [
    "In opposite to the in-class practice, this time we want to predict complex text. Let's reduce the complexity of the task and lowercase all the symbols.\n",
    "\n",
    "Now variable `text` is a list of strings. Join all the strings into one and lowercase it."
   ]
  },
  {
   "cell_type": "code",
   "execution_count": 3,
   "metadata": {},
   "outputs": [],
   "source": [
    "# Join all the strings into one and lowercase it\n",
    "# Put result into variable text.\n",
    "\n",
    "# Your great code here\n",
    "text = \"\".join(raw_text).lower()"
   ]
  },
  {
   "cell_type": "markdown",
   "metadata": {},
   "source": [
    "### Tokenizing"
   ]
  },
  {
   "cell_type": "markdown",
   "metadata": {},
   "source": [
    "Assign index to every token (character) in `text`"
   ]
  },
  {
   "cell_type": "code",
   "execution_count": 4,
   "metadata": {
    "scrolled": true
   },
   "outputs": [
    {
     "name": "stdout",
     "output_type": "stream",
     "text": [
      "Unique tokens:  83\n"
     ]
    }
   ],
   "source": [
    "tokens = sorted(set(text))\n",
    "print(\"Unique tokens: \", len(tokens))"
   ]
  },
  {
   "cell_type": "markdown",
   "metadata": {},
   "source": [
    "Create dictionary `token_to_idx = {<char>: <index>}` and dictionary `idx_to_token = {<index>: <char>}`"
   ]
  },
  {
   "cell_type": "code",
   "execution_count": 5,
   "metadata": {},
   "outputs": [],
   "source": [
    "# dict <index>:<char>\n",
    "# Your great code here\n",
    "token_to_idx = {token: idx for idx, token in enumerate(tokens)}\n",
    "\n",
    "# dict <char>:<index>\n",
    "# Your great code here\n",
    "idx_to_token = {idx: token for idx, token in enumerate(tokens)}"
   ]
  },
  {
   "cell_type": "markdown",
   "metadata": {},
   "source": [
    "Various helper functions to process data:"
   ]
  },
  {
   "cell_type": "code",
   "execution_count": 6,
   "metadata": {},
   "outputs": [],
   "source": [
    "import numpy as np"
   ]
  },
  {
   "cell_type": "code",
   "execution_count": 7,
   "metadata": {},
   "outputs": [],
   "source": [
    "def divide_into_samples(text, \n",
    "                        sample_length, \n",
    "                        num_samples=None, \n",
    "                        batch_first=True):\n",
    "    '''\n",
    "    The function divides `text` into samples of `sample_length`\n",
    "    \n",
    "    :param text: text string to divide in samples\n",
    "    :param Sample_length: length of single sample\n",
    "    :param num_samples: number of samples,\n",
    "        (default `len(text)//sample_length`, \n",
    "        maximum `len(text)//sample_length`)\n",
    "    :param batch_first: function returns [batch,time] if `True` \n",
    "        [time,batch] if `False`\n",
    "    \n",
    "    :return: numpy array of shape `(num_samples, sample_length)` \n",
    "        - samples from text\n",
    "    '''\n",
    "    max_samples = len(text)//sample_length\n",
    "    if num_samples:\n",
    "        assert num_samples <= max_samples,\\\n",
    "            'Provided number of samples exceeds maximum'\n",
    "    \n",
    "    num_samples = num_samples or max_samples\n",
    "    \n",
    "    samples = np.zeros([num_samples, sample_length])\n",
    "    \n",
    "    for i in range(num_samples):\n",
    "        start_idx = i*sample_length\n",
    "        samples[i:]=[token_to_idx[token] for token in \n",
    "                     text[start_idx : start_idx+sample_length]]\n",
    "        \n",
    "    if not batch_first: # convert [batch, time] into [time, batch]\n",
    "        samples = np.transpose(samples)\n",
    "    \n",
    "    return samples\n",
    "\n",
    "\n",
    "def take_random_samples(samples, num_samples, batch_first=True):\n",
    "    '''\n",
    "    Take random samples from provided array\n",
    "    \n",
    "    Uses `numpy.random.randint()`\n",
    "    :param samples: numpy array of shape `(num_samples, sample_length)` \n",
    "        - samples for randomizing\n",
    "    :param num_samples: number of samples to generate\n",
    "    :param batch_first: function returns [batch,time] if `True` \n",
    "        [time,batch] if `False`\n",
    "    \n",
    "    :return: numpy array of shape `(num_samples, sample_length)`\n",
    "        - randomly taken samples\n",
    "    '''\n",
    "    if batch_first:\n",
    "        return samples[np.random.randint(0, \n",
    "                                         samples.shape[0], \n",
    "                                         num_samples\n",
    "                                        ).astype(int), :]\n",
    "    else:\n",
    "        return samples[:, np.random.randint(0, \n",
    "                                            samples.shape[-1], \n",
    "                                            num_samples\n",
    "                                           ).astype(int)]\n",
    "    \n",
    "    \n",
    "def sample_to_string(sample):\n",
    "    '''\n",
    "    Convert sample to string\n",
    "    \n",
    "    :param sample: sample to convert\n",
    "    \n",
    "    :return: string, sample converted using `idx_to_token`\n",
    "    '''\n",
    "    return \"\".join(np.vectorize(lambda x: idx_to_token[x])(sample))"
   ]
  },
  {
   "cell_type": "markdown",
   "metadata": {},
   "source": [
    "See how it works:"
   ]
  },
  {
   "cell_type": "code",
   "execution_count": 8,
   "metadata": {},
   "outputs": [
    {
     "data": {
      "text/plain": [
       "array([[ 0., 26.,  0., ...,  1., 59., 63.],\n",
       "       [66., 59., 49., ..., 49., 59., 54.],\n",
       "       [ 1., 60., 59., ...,  5.,  1., 49.],\n",
       "       ...,\n",
       "       [63., 72.,  5., ..., 58., 50., 54.],\n",
       "       [ 1., 59., 58., ...,  1., 63., 50.],\n",
       "       [ 1., 49., 45., ..., 60., 59., 56.]])"
      ]
     },
     "execution_count": 8,
     "metadata": {},
     "output_type": "execute_result"
    }
   ],
   "source": [
    "samples_example = divide_into_samples(text, 200)\n",
    "samples_example"
   ]
  },
  {
   "cell_type": "code",
   "execution_count": 9,
   "metadata": {},
   "outputs": [
    {
     "name": "stdout",
     "output_type": "stream",
     "text": [
      "[ \n",
      "i\n",
      "\n",
      "«мой дядя самых честных правил,\n",
      "когда не в шутку занемог,\n",
      "он уважать себя заставил\n",
      "и лучше выдумать не мог.\n",
      "его пример другим наука;\n",
      "но, боже мой, какая скука\n",
      "с больным сидеть и день и ночь,\n",
      "не от ]\n",
      "[ ходя ни шагу прочь!\n",
      "какое низкое коварство\n",
      "полуживого забавлять,\n",
      "ему подушки поправлять,\n",
      "печально подносить лекарство,\n",
      "вздыхать и думать про себя:\n",
      "когда же черт возьмет тебя!»\n",
      "\n",
      "\n",
      "\n",
      "ii\n",
      "\n",
      "так думал молодой ]\n"
     ]
    }
   ],
   "source": [
    "for s in samples_example[:2]:\n",
    "    print(\"[\", sample_to_string(s), \"]\")"
   ]
  },
  {
   "cell_type": "code",
   "execution_count": 10,
   "metadata": {},
   "outputs": [
    {
     "name": "stdout",
     "output_type": "stream",
     "text": [
      "[ бленной, бедной и простой,\n",
      "но равнодушною княгиней,\n",
      "но неприступною богиней\n",
      "роскошной, царственной невы.\n",
      "о люди! все похожи вы\n",
      "на прародительницу эву:\n",
      "что вам дано, то не влечет;\n",
      "вас непрестанно змий  ]\n",
      "[  неугомонно\n",
      "хлопочем, судим обо всем,\n",
      "что пылких душ неосторожность\n",
      "самолюбивую ничтожность\n",
      "иль оскорбляет, иль смешит,\n",
      "что ум, любя простор, теснит,\n",
      "что слишком часто разговоры\n",
      "принять мы рады за дел ]\n"
     ]
    }
   ],
   "source": [
    "for s in take_random_samples(samples_example, 2):\n",
    "    print(\"[\", sample_to_string(s), \"]\")"
   ]
  },
  {
   "cell_type": "markdown",
   "metadata": {},
   "source": [
    "### Building the model"
   ]
  },
  {
   "cell_type": "markdown",
   "metadata": {},
   "source": [
    "Now we want to build and train recurrent neural net which would be able to write something similar to Pushkin's text.\n",
    "\n",
    "Let's use vanilla RNN, similar to the one created during the lesson."
   ]
  },
  {
   "cell_type": "code",
   "execution_count": 11,
   "metadata": {},
   "outputs": [
    {
     "data": {
      "text/plain": [
       "device(type='cuda')"
      ]
     },
     "execution_count": 11,
     "metadata": {},
     "output_type": "execute_result"
    }
   ],
   "source": [
    "import torch, torch.nn as nn, torch.nn.functional as F\n",
    "# set PyTorch to create all tensors on nvidia gpu if any\n",
    "device = torch.device(\"cuda\" if torch.cuda.is_available() else \"cpu\")\n",
    "torch.set_default_device(device)\n",
    "device"
   ]
  },
  {
   "cell_type": "markdown",
   "metadata": {},
   "source": [
    "Define single cell of RNN as a torch module"
   ]
  },
  {
   "cell_type": "code",
   "execution_count": 12,
   "metadata": {},
   "outputs": [],
   "source": [
    "class RNNModelCell(nn.Module):\n",
    "    '''\n",
    "    Single cell of RNN\n",
    "    \n",
    "    Embedding layer is applied to the input of the cell\n",
    "    '''\n",
    "    def __init__(self, hidden_size, num_tokens, embedding_size=18):\n",
    "        '''\n",
    "        Create new RNN cell\n",
    "        \n",
    "        :param hidden_size: size of hidden vector\n",
    "        :param num_tokens: number of unique tokens to embed\n",
    "        :param embedding_size: size of dense output of embedding layer\n",
    "        '''\n",
    "        super(self.__class__,self).__init__()\n",
    "        self.hidden_size = hidden_size\n",
    "        \n",
    "        # Embedding layer to convert token index to vector\n",
    "        self.embedding = nn.Embedding(num_tokens, embedding_size)\n",
    "        # Linear conversion from input and hidden vector concatenated\n",
    "        # to hidden vector \n",
    "        self.i2h = nn.Linear(hidden_size + embedding_size, hidden_size)\n",
    "        # Linear conversion from hidden vector to output logits\n",
    "        self.h2l = nn.Linear(hidden_size, num_tokens)\n",
    "        # tanh activation function\n",
    "        self.tanh = torch.nn.Tanh()\n",
    "        \n",
    "        \n",
    "    def forward(self, x_next, hidden):\n",
    "        '''\n",
    "        Define the computation performed at every call\n",
    "        \n",
    "        :param x_next: x vector at next step\n",
    "        :param hidden: hidden vector from previous step\n",
    "        \n",
    "        :return h_next: hidden vector at next step\n",
    "        :return logits: logits vector at this step\n",
    "        '''\n",
    "        #embedd x_next\n",
    "        x_embedded = self.embedding(x_next)\n",
    "        # combine input and hidden state\n",
    "        input_combined = torch.cat([x_embedded, hidden], dim=-1)\n",
    "        h_next = self.i2h(input_combined)\n",
    "        # apply nonlinearity\n",
    "        h_next = self.tanh(h_next)\n",
    "        # compute logits\n",
    "        logits = self.h2l(h_next)\n",
    "        \n",
    "        return h_next, logits\n",
    "    \n",
    "    def initial_state(self, batch_size):\n",
    "        '''\n",
    "        Initial state of hidden vector\n",
    "        \n",
    "        :param batch_size: size of batch input\n",
    "        \n",
    "        :return: initial hidden vector (all zeros)\n",
    "        '''\n",
    "        return torch.zeros(batch_size, \n",
    "                           self.hidden_size, \n",
    "                           requires_grad=True)"
   ]
  },
  {
   "cell_type": "markdown",
   "metadata": {},
   "source": [
    "To complete RNN we will loop through time while feeding output of previous cell to the next one"
   ]
  },
  {
   "cell_type": "code",
   "execution_count": 13,
   "metadata": {},
   "outputs": [],
   "source": [
    "def rnn_loop(char_rnn, batch_idx):\n",
    "    '''  \n",
    "    Batch compute logits for each character\n",
    "    :param batch_idx: int64 torch.tensor of shape [batch_size, time]\n",
    "    '''\n",
    "    batch_size, sample_length = batch_idx.size()\n",
    "    # initial state of model\n",
    "    hidden = char_rnn.initial_state(batch_size)\n",
    "    logits = []\n",
    "    \n",
    "    # take batch of next characters\n",
    "    for x_t in batch_idx.transpose(0,1):\n",
    "        # and feed it to cell\n",
    "        hidden, logits_next = char_rnn(x_t, hidden)\n",
    "        logits.append(logits_next)\n",
    "    \n",
    "    return torch.stack(logits, dim=1)"
   ]
  },
  {
   "cell_type": "markdown",
   "metadata": {},
   "source": [
    "#### Checking output\n",
    "\n",
    "Let's check that our model handles input/output correctly"
   ]
  },
  {
   "cell_type": "code",
   "execution_count": 14,
   "metadata": {},
   "outputs": [],
   "source": [
    "num_tokens = len(tokens)\n",
    "hidden_size = 128\n",
    "\n",
    "t_char_rnn = RNNModelCell(hidden_size, num_tokens)"
   ]
  },
  {
   "cell_type": "code",
   "execution_count": 15,
   "metadata": {},
   "outputs": [
    {
     "data": {
      "text/plain": [
       "tensor([[ 0],\n",
       "        [26],\n",
       "        [ 0],\n",
       "        [ 0],\n",
       "        [43],\n",
       "        [57],\n",
       "        [59],\n",
       "        [54],\n",
       "        [ 1],\n",
       "        [49],\n",
       "        [76],\n",
       "        [49],\n",
       "        [76],\n",
       "        [ 1],\n",
       "        [62],\n",
       "        [45],\n",
       "        [57],\n",
       "        [72],\n",
       "        [66],\n",
       "        [ 1]], device='cuda:0')"
      ]
     },
     "execution_count": 15,
     "metadata": {},
     "output_type": "execute_result"
    }
   ],
   "source": [
    "batch_idx = torch.tensor(divide_into_samples(text, 20, 1), \n",
    "                         dtype=torch.int64)\n",
    "batch_idx.transpose(0,1)"
   ]
  },
  {
   "cell_type": "code",
   "execution_count": 16,
   "metadata": {},
   "outputs": [
    {
     "data": {
      "text/plain": [
       "tensor([[[-0.1267,  0.1321, -0.0303,  ..., -0.0635, -0.2055,  0.0176],\n",
       "         [-0.1391,  0.0194, -0.1476,  ...,  0.0706, -0.2403, -0.0180],\n",
       "         [-0.1418,  0.1997, -0.0337,  ..., -0.1430, -0.1324,  0.0316],\n",
       "         ...,\n",
       "         [-0.0960, -0.1683, -0.2788,  ...,  0.1626,  0.0685,  0.0769],\n",
       "         [-0.0875,  0.0560, -0.2150,  ...,  0.1001,  0.0612,  0.0371],\n",
       "         [ 0.1266,  0.1540,  0.0176,  ..., -0.0306, -0.1360,  0.2728]]],\n",
       "       device='cuda:0', grad_fn=<StackBackward0>)"
      ]
     },
     "execution_count": 16,
     "metadata": {},
     "output_type": "execute_result"
    }
   ],
   "source": [
    "logit_seq = rnn_loop(t_char_rnn, batch_idx)\n",
    "logit_seq"
   ]
  },
  {
   "cell_type": "markdown",
   "metadata": {},
   "source": [
    "#### Training loop"
   ]
  },
  {
   "cell_type": "code",
   "execution_count": 17,
   "metadata": {},
   "outputs": [],
   "source": [
    "import matplotlib.pyplot as plt\n",
    "# use `tqdm` to display progress bar\n",
    "from tqdm import tqdm\n",
    "# clear output for real time plot\n",
    "from IPython.display import clear_output"
   ]
  },
  {
   "cell_type": "code",
   "execution_count": 18,
   "metadata": {},
   "outputs": [],
   "source": [
    "# common model hyperparameters\n",
    "hidden_size = 128\n",
    "\n",
    "# common training parameters\n",
    "# 400 is the average verse length\n",
    "sample_length = 400\n",
    "batch_size = 32\n",
    "num_epochs = 1500"
   ]
  },
  {
   "cell_type": "code",
   "execution_count": 19,
   "metadata": {},
   "outputs": [],
   "source": [
    "# Data for this loop\n",
    "my_tokens = tokens\n",
    "my_text = text\n",
    "num_tokens = len(my_tokens)\n",
    "\n",
    "# should loss function be plotted in real time\n",
    "real_time_plot = True\n",
    "# plot interval in epochs if True\n",
    "plot_int = 10\n",
    "\n",
    "# model, optimizer and loss function\n",
    "char_rnn = RNNModelCell(hidden_size, num_tokens)\n",
    "opt_rnn = torch.optim.Adam(char_rnn.parameters())\n",
    "loss_func = nn.CrossEntropyLoss()\n",
    "\n",
    "# prepare the samples\n",
    "samples = divide_into_samples(my_text, sample_length)\n",
    "\n",
    "# list to record loss history\n",
    "history_rnn=[]"
   ]
  },
  {
   "cell_type": "code",
   "execution_count": 20,
   "metadata": {
    "scrolled": false
   },
   "outputs": [
    {
     "data": {
      "image/png": "[encoded data removed]",
      "text/plain": [
       "<Figure size 640x480 with 1 Axes>"
      ]
     },
     "metadata": {},
     "output_type": "display_data"
    },
    {
     "name": "stderr",
     "output_type": "stream",
     "text": [
      "100%|██████████████████████████████████████████████████████████████████████████████| 1500/1500 [08:48<00:00,  2.84it/s]\n"
     ]
    }
   ],
   "source": [
    "# main training loop\n",
    "for i in tqdm(range(num_epochs)):\n",
    "    \n",
    "    # prepare random samples\n",
    "    batch_idx = torch.tensor(take_random_samples(samples, batch_size), \n",
    "                             dtype=torch.int64)\n",
    "    \n",
    "    # run the model\n",
    "    logits_seq = rnn_loop(char_rnn, batch_idx)\n",
    "    \n",
    "    # for every time step logit is a prediction\n",
    "    # for the next step, so we will shift it\n",
    "    # to the right\n",
    "    predictions = logits_seq[:, :-1]\n",
    "    # and slice corresponding part of our data as \n",
    "    # \"train\" data\n",
    "    next_tokens = batch_idx[:, 1:]\n",
    "\n",
    "    # compute loss function\n",
    "    loss = loss_func(\n",
    "        # bring parameters first dimensions to same shape\n",
    "        predictions.reshape(-1, num_tokens),\n",
    "        next_tokens.reshape(-1)\n",
    "    )\n",
    "    \n",
    "    # copy loss from gpu and save it\n",
    "    history_rnn.append(loss.data.cpu().numpy())\n",
    "    \n",
    "    # plot loss in real time\n",
    "    if real_time_plot and i%plot_int==0:\n",
    "        clear_output(True)\n",
    "        fig, ax = plt.subplots()\n",
    "        ax.plot(history_rnn, label=\"loss\")\n",
    "        ax.legend()\n",
    "        ax.grid(True)\n",
    "        plt.show()\n",
    "    \n",
    "    # perform optimizer step\n",
    "    loss.backward()\n",
    "    opt_rnn.step()   \n",
    "    opt_rnn.zero_grad()"
   ]
  },
  {
   "cell_type": "markdown",
   "metadata": {},
   "source": [
    "Plot the loss function (axis X: number of epochs, axis Y: loss function)."
   ]
  },
  {
   "cell_type": "code",
   "execution_count": 21,
   "metadata": {},
   "outputs": [
    {
     "data": {
      "image/png": "[encoded data removed]",
      "text/plain": [
       "<Figure size 640x480 with 1 Axes>"
      ]
     },
     "metadata": {},
     "output_type": "display_data"
    }
   ],
   "source": [
    "fig, ax = plt.subplots()\n",
    "ax.plot(history_rnn, label=\"loss\")\n",
    "ax.legend()\n",
    "ax.grid(True)"
   ]
  },
  {
   "cell_type": "markdown",
   "metadata": {},
   "source": [
    "#### Generating samples"
   ]
  },
  {
   "cell_type": "code",
   "execution_count": 22,
   "metadata": {},
   "outputs": [],
   "source": [
    "def generate_sample_rnn(char_rnn, \n",
    "                        idx_to_token, \n",
    "                        seed_phrase='hello', \n",
    "                        length=1000, \n",
    "                        temperature=1.0):\n",
    "    '''\n",
    "    The function generates text given a phrase.\n",
    "    \n",
    "    :param idx_to_token: index to token mapping\n",
    "    :param seed_phrase: prefix characters. The RNN is asked to continue\n",
    "        the phrase\n",
    "    :param length: output length, including seed_phrase\n",
    "    :param temperature: coefficient for sampling.  higher temperature \n",
    "        produces more chaotic outputs, smaller temperature converges to \n",
    "        the single most likely output.\n",
    "        \n",
    "    :return: generated phrase\n",
    "        \n",
    "    Be careful with the model output. This model waits logits \n",
    "    (not probabilities/log-probabilities) of the next symbol.\n",
    "    '''\n",
    "    \n",
    "    num_tokens = len(idx_to_token)\n",
    "    # convert seed phrase to tokens\n",
    "    seed_phrase = seed_phrase.lower()\n",
    "    x_sequence = [token_to_idx[token] for token in seed_phrase]\n",
    "    x_sequence = torch.tensor([x_sequence], dtype=torch.int64)\n",
    "    \n",
    "    # initialize model state with zeros\n",
    "    hid_state = char_rnn.initial_state(batch_size=1)\n",
    "    \n",
    "    # feed the seed phrase, if any, one charachter at a time\n",
    "    for i in tqdm(range(len(seed_phrase) - 1), desc=\"seeding:\"):\n",
    "        hid_state, out = char_rnn(x_sequence[:, i], hid_state)\n",
    "    \n",
    "    # start generating\n",
    "    for _ in tqdm(range(length - len(seed_phrase)), desc=\"generation:\"):\n",
    "        \n",
    "        # feed last character to model\n",
    "        hid_state, out = char_rnn(x_sequence[:, -1], hid_state)\n",
    "        # apply activation function\n",
    "        p_next = \\\n",
    "            F.softmax(out / temperature, dim=-1).data.cpu().numpy()[0]\n",
    "        \n",
    "        # sample next token and push it back into x_sequence\n",
    "        next_ix = np.random.choice(num_tokens, p=p_next)\n",
    "        next_ix = torch.tensor([[next_ix]], dtype=torch.int64)\n",
    "        x_sequence = torch.cat([x_sequence, next_ix], dim=1)\n",
    "        \n",
    "    return ''.join([idx_to_token[ix] for ix in \\\n",
    "                    x_sequence.data.cpu().numpy()[0]])"
   ]
  },
  {
   "cell_type": "markdown",
   "metadata": {},
   "source": [
    "Let's try generating some text"
   ]
  },
  {
   "cell_type": "code",
   "execution_count": 23,
   "metadata": {},
   "outputs": [
    {
     "name": "stderr",
     "output_type": "stream",
     "text": [
      "seeding:: 100%|██████████████████████████████████████████████████████████████████████| 15/15 [00:00<00:00, 2506.76it/s]\n",
      "generation:: 100%|█████████████████████████████████████████████████████████████████| 984/984 [00:00<00:00, 1477.48it/s]"
     ]
    },
    {
     "name": "stdout",
     "output_type": "stream",
     "text": [
      "«мой дядя самых давно,\n",
      "постранный поравительный своей\n",
      "с ней полово не стала\n",
      "и в сердце когом от свор\n",
      "она в тем своей мольша\n",
      "сердце своей доловой\n",
      "и привожить не старинный долго\n",
      "не симилоский сторенья\n",
      "и душа в полне толчать глузам,\n",
      "признать не долой другой\n",
      "не предругом над не странной,\n",
      "и всё бедушно вечет горовой\n",
      "всё не старинно не другой,\n",
      "и смель стравнит сердце она сердца\n",
      "мо в том перед уж ним сольбие сливеть\n",
      "в души простанит она подала;\n",
      "сердце он с не полвом и ветельны,\n",
      "и в душа свое летом\n",
      "и вам сердце полодной\n",
      "со-старить с безнила своей их другой,\n",
      "в том он взоро не был дорою\n",
      "прительный придость не ставилась,\n",
      "как полинет она в беденьем,\n",
      "в свое полна, всех страсти странный,\n",
      "как уж сердце не мни всех постала\n",
      "и своей доловый от него\n",
      "он свет он старала и старины\n",
      "привот устало не стала,\n",
      "и все другом половала,\n",
      "пора старовительной всегда странье,\n",
      "не с ней стразник на своей долго\n",
      "не потрате стариный,\n",
      "потам не старить не подной\n",
      "не привлитьяна и был не всех не странный,\n",
      "о пришен свои ставилась \n"
     ]
    },
    {
     "name": "stderr",
     "output_type": "stream",
     "text": [
      "\n"
     ]
    }
   ],
   "source": [
    "print(generate_sample_rnn(char_rnn, \n",
    "                          idx_to_token, \n",
    "                          temperature=0.4, \n",
    "                          length=1000, \n",
    "                          seed_phrase=\"«мой дядя самых \"))"
   ]
  },
  {
   "cell_type": "markdown",
   "metadata": {},
   "source": [
    "### More poetic model\n",
    "\n",
    "Let's use LSTM instead of vanilla RNN and compare the results."
   ]
  },
  {
   "cell_type": "markdown",
   "metadata": {},
   "source": [
    "Define single cell of RNN as a torch module"
   ]
  },
  {
   "cell_type": "code",
   "execution_count": 24,
   "metadata": {},
   "outputs": [],
   "source": [
    "class LSTMModelCell(nn.Module):\n",
    "    '''\n",
    "    Single cell of LSTM\n",
    "    \n",
    "    Embedding layer is applied to the input of the cell\n",
    "    '''\n",
    "    def __init__(self, hidden_size, num_tokens, embedding_size=18):\n",
    "        '''\n",
    "        Create new LSTM cell\n",
    "        \n",
    "        :param hidden_size: size of hidden vector and memory vector\n",
    "        :param num_tokens: number of unique tokens to embed\n",
    "        :param embedding_size: size of dense output of embedding layer\n",
    "        '''\n",
    "        super(self.__class__,self).__init__()\n",
    "        self.hidden_size = hidden_size\n",
    "        \n",
    "        # Embedding layer to convert token index to vector\n",
    "        self.embedding = nn.Embedding(num_tokens, embedding_size)\n",
    "        # Linear conversion from input and hidden vector concatenated\n",
    "        # to hidden vector \n",
    "        self.i2h = nn.Linear(hidden_size + embedding_size, hidden_size)\n",
    "        # Linear conversion from memory vector to output logits\n",
    "        self.h2l = nn.Linear(hidden_size, num_tokens)\n",
    "        # Forget gate\n",
    "        self.h2fg = nn.Linear(hidden_size, hidden_size)\n",
    "        # Input gate\n",
    "        self.h2ig = nn.Linear(hidden_size, hidden_size)\n",
    "        # Output gate\n",
    "        self.h2og = nn.Linear(hidden_size, hidden_size)\n",
    "        # New memory content\n",
    "        self.h2m = nn.Linear(hidden_size, hidden_size)\n",
    "        \n",
    "    def forward(self, x_next, hidden, memory):\n",
    "        '''\n",
    "        Define the computation performed at every call\n",
    "        \n",
    "        :param x_next: x vector at next step\n",
    "        :param hidden: hidden vector from previous step\n",
    "        :param memory: memory vector from previous step\n",
    "        \n",
    "        :return h_next: hidden vector at next step\n",
    "        :return c_next: memory vector at next step\n",
    "        :return logits: logits vector at this step\n",
    "        '''\n",
    "        #embedd x_next\n",
    "        x_embedded = self.embedding(x_next)\n",
    "        # combine input and hidden state\n",
    "        input_combined = torch.cat([x_embedded, hidden], dim=-1)\n",
    "        h_curr = self.i2h(input_combined)\n",
    "        \n",
    "        # load memory from previous step\n",
    "        c_curr = memory\n",
    "        \n",
    "        # Compute forget gate\n",
    "        f = F.sigmoid(self.h2fg(h_curr))\n",
    "        \n",
    "        # Compute input gate and new content\n",
    "        i = F.sigmoid(self.h2ig(h_curr))\n",
    "        c = F.tanh(self.h2m(h_curr))\n",
    "        \n",
    "        # Modify cell state\n",
    "        c_next = f*c_curr + i*c\n",
    "        \n",
    "        # Compute output gate\n",
    "        out = F.sigmoid(self.h2og(h_curr))\n",
    "        \n",
    "        # compute next hidden state\n",
    "        h_next = out*F.tanh(c_next)\n",
    "        # and logits\n",
    "        logits = self.h2l(h_next)\n",
    "        \n",
    "        return h_next, c_next, logits\n",
    "    \n",
    "    def initial_state(self, batch_size):\n",
    "        '''\n",
    "        Initial state of hidden vector and memory\n",
    "        \n",
    "        :param batch_size: size of batch input\n",
    "        \n",
    "        :return hidden: initial hidden vector (all zeros)\n",
    "        :return memory: initial memory vector (all zeros)\n",
    "        '''\n",
    "        return (\n",
    "            torch.zeros(batch_size, \n",
    "                        self.hidden_size, \n",
    "                        requires_grad=True),\n",
    "            torch.zeros(batch_size, \n",
    "                        self.hidden_size, \n",
    "                        requires_grad=True))\n"
   ]
  },
  {
   "cell_type": "markdown",
   "metadata": {},
   "source": [
    "To complete RNN we will loop through time while next character is avaliable"
   ]
  },
  {
   "cell_type": "code",
   "execution_count": 25,
   "metadata": {},
   "outputs": [],
   "source": [
    "def lstm_loop(char_lstm, batch_idx):\n",
    "    '''    \n",
    "    Batch compute logits for each character\n",
    "    :param batch_idx: int64 torch.tensor of shape [batch_size, time]\n",
    "    '''\n",
    "    batch_size, sample_length = batch_idx.size()\n",
    "    # initial state of model\n",
    "    hidden, memory = char_lstm.initial_state(batch_size)\n",
    "    logits = []\n",
    "    \n",
    "    # take batch of next characters\n",
    "    for x_t in batch_idx.transpose(0,1):\n",
    "        # and feed it to cell\n",
    "        hidden, memory, logits_next = char_lstm(x_t, hidden, memory)\n",
    "        logits.append(logits_next)\n",
    "    \n",
    "    return torch.stack(logits, dim=1)\n"
   ]
  },
  {
   "cell_type": "markdown",
   "metadata": {},
   "source": [
    "#### Checking output\n",
    "\n",
    "Let's check that our model handles input/output correctly"
   ]
  },
  {
   "cell_type": "code",
   "execution_count": 26,
   "metadata": {},
   "outputs": [],
   "source": [
    "num_tokens = len(tokens)\n",
    "hidden_size = 128\n",
    "\n",
    "t_char_lstm = LSTMModelCell(hidden_size, num_tokens)"
   ]
  },
  {
   "cell_type": "code",
   "execution_count": 27,
   "metadata": {},
   "outputs": [
    {
     "data": {
      "text/plain": [
       "tensor([[ 0],\n",
       "        [26],\n",
       "        [ 0],\n",
       "        [ 0],\n",
       "        [43],\n",
       "        [57],\n",
       "        [59],\n",
       "        [54],\n",
       "        [ 1],\n",
       "        [49],\n",
       "        [76],\n",
       "        [49],\n",
       "        [76],\n",
       "        [ 1],\n",
       "        [62],\n",
       "        [45],\n",
       "        [57],\n",
       "        [72],\n",
       "        [66],\n",
       "        [ 1]], device='cuda:0')"
      ]
     },
     "execution_count": 27,
     "metadata": {},
     "output_type": "execute_result"
    }
   ],
   "source": [
    "batch_idx = torch.tensor(divide_into_samples(text, 20, 1), \n",
    "                         dtype=torch.int64)\n",
    "batch_idx.transpose(0,1)"
   ]
  },
  {
   "cell_type": "code",
   "execution_count": 28,
   "metadata": {},
   "outputs": [
    {
     "data": {
      "text/plain": [
       "tensor([[[ 0.0435,  0.1063,  0.0219,  ..., -0.0129, -0.0075, -0.0349],\n",
       "         [ 0.0354,  0.1107,  0.0115,  ...,  0.0053, -0.0111, -0.0382],\n",
       "         [ 0.0451,  0.1203,  0.0148,  ...,  0.0026, -0.0182, -0.0193],\n",
       "         ...,\n",
       "         [ 0.0197,  0.1190,  0.0278,  ..., -0.0037, -0.0030, -0.0530],\n",
       "         [ 0.0270,  0.0977,  0.0245,  ..., -0.0213, -0.0005, -0.0849],\n",
       "         [ 0.0381,  0.0550,  0.0103,  ..., -0.0529,  0.0073, -0.1112]]],\n",
       "       device='cuda:0', grad_fn=<StackBackward0>)"
      ]
     },
     "execution_count": 28,
     "metadata": {},
     "output_type": "execute_result"
    }
   ],
   "source": [
    "logit_seq = lstm_loop(t_char_lstm, batch_idx)\n",
    "logit_seq"
   ]
  },
  {
   "cell_type": "markdown",
   "metadata": {},
   "source": [
    "#### Training loop"
   ]
  },
  {
   "cell_type": "code",
   "execution_count": 29,
   "metadata": {},
   "outputs": [],
   "source": [
    "import matplotlib.pyplot as plt\n",
    "# use `tqdm` to display progress bar\n",
    "from tqdm import tqdm\n",
    "# clear output for real time plot\n",
    "from IPython.display import clear_output"
   ]
  },
  {
   "cell_type": "code",
   "execution_count": 30,
   "metadata": {},
   "outputs": [],
   "source": [
    "# Data for this loop\n",
    "my_tokens = tokens\n",
    "my_text = text\n",
    "num_tokens = len(my_tokens)\n",
    "\n",
    "# We will use the same hyperparameters \n",
    "# and training parameters as for RNN\n",
    "\n",
    "# should loss function be plotted in real time\n",
    "real_time_plot = True\n",
    "# plot interval in epochs if True\n",
    "plot_int = 10\n",
    "\n",
    "# model, optimizer and loss function\n",
    "char_lstm = LSTMModelCell(hidden_size, num_tokens)\n",
    "opt_lstm = torch.optim.Adam(char_lstm.parameters())\n",
    "loss_func = nn.CrossEntropyLoss()\n",
    "\n",
    "# prepare the samples\n",
    "samples = divide_into_samples(my_text, sample_length)\n",
    "\n",
    "# list to record loss history\n",
    "history_lstm=[]"
   ]
  },
  {
   "cell_type": "code",
   "execution_count": 31,
   "metadata": {
    "scrolled": false
   },
   "outputs": [
    {
     "data": {
      "image/png": "[encoded data removed]",
      "text/plain": [
       "<Figure size 640x480 with 1 Axes>"
      ]
     },
     "metadata": {},
     "output_type": "display_data"
    },
    {
     "name": "stderr",
     "output_type": "stream",
     "text": [
      "100%|██████████████████████████████████████████████████████████████████████████████| 1500/1500 [24:12<00:00,  1.03it/s]\n"
     ]
    }
   ],
   "source": [
    "# main training loop\n",
    "for i in tqdm(range(num_epochs)):\n",
    "    \n",
    "    # prepare random samples\n",
    "    batch_idx = torch.tensor(take_random_samples(samples, batch_size), \n",
    "                             dtype=torch.int64)\n",
    "    \n",
    "    # run the model\n",
    "    logits_seq = lstm_loop(char_lstm, batch_idx)\n",
    "    \n",
    "    # for every time step logit is a prediction\n",
    "    # for the next step, so we will shift it\n",
    "    # to the right\n",
    "    predictions = logits_seq[:, :-1]\n",
    "    # and slice corresponding part of our data as \n",
    "    # \"train\" data\n",
    "    next_tokens = batch_idx[:, 1:]\n",
    "\n",
    "    # compute loss function\n",
    "    loss = loss_func(\n",
    "        # bring parameters first dimensions to same shape\n",
    "        predictions.reshape(-1, num_tokens),\n",
    "        next_tokens.reshape(-1)\n",
    "    )\n",
    "    \n",
    "    # copy loss from gpu and save it\n",
    "    history_lstm.append(loss.data.cpu().numpy())\n",
    "    \n",
    "    # plot loss in real time\n",
    "    if real_time_plot and i%plot_int==0:\n",
    "        clear_output(True)\n",
    "        fig, ax = plt.subplots()\n",
    "        ax.plot(history_lstm, label=\"loss\")\n",
    "        ax.legend()\n",
    "        ax.grid(True)\n",
    "        plt.show()\n",
    "    \n",
    "    # perform optimizer step\n",
    "    loss.backward()\n",
    "    opt_lstm.step() \n",
    "    opt_lstm.zero_grad()"
   ]
  },
  {
   "cell_type": "markdown",
   "metadata": {},
   "source": [
    "Plot the loss function (axis X: number of epochs, axis Y: loss function)."
   ]
  },
  {
   "cell_type": "code",
   "execution_count": 32,
   "metadata": {},
   "outputs": [
    {
     "data": {
      "image/png": "[encoded data removed]",
      "text/plain": [
       "<Figure size 640x480 with 1 Axes>"
      ]
     },
     "metadata": {},
     "output_type": "display_data"
    }
   ],
   "source": [
    "fig, ax = plt.subplots()\n",
    "ax.plot(history_lstm, label=\"loss\")\n",
    "ax.legend()\n",
    "ax.grid(True)\n"
   ]
  },
  {
   "cell_type": "markdown",
   "metadata": {},
   "source": [
    "#### Comparing loss functions\n",
    "\n",
    "Plot loss functions for RNN and LSTM side by side"
   ]
  },
  {
   "cell_type": "code",
   "execution_count": 33,
   "metadata": {
    "scrolled": false
   },
   "outputs": [
    {
     "data": {
      "image/png": "[encoded data removed]",
      "text/plain": [
       "<Figure size 640x480 with 2 Axes>"
      ]
     },
     "metadata": {},
     "output_type": "display_data"
    }
   ],
   "source": [
    "fig, ax = plt.subplots(1,2)\n",
    "for i, (h, title) in enumerate([(history_rnn, \"RNN\"), \n",
    "                                      (history_lstm, \"LSTM\")]):\n",
    "    ax[i].plot(h, label=title+\" loss\")\n",
    "    ax[i].legend()\n",
    "    ax[i].grid(True)"
   ]
  },
  {
   "cell_type": "markdown",
   "metadata": {},
   "source": [
    "Comparing loss plots for RNN and LSTM we can see that LSTM is converging a bit slower then RNN"
   ]
  },
  {
   "cell_type": "markdown",
   "metadata": {},
   "source": [
    "#### Generating samples"
   ]
  },
  {
   "cell_type": "code",
   "execution_count": 34,
   "metadata": {},
   "outputs": [],
   "source": [
    "def generate_sample_lstm(char_rnn, \n",
    "                    idx_to_token, \n",
    "                    seed_phrase='hello', \n",
    "                    length=1000, \n",
    "                    temperature=1.0):\n",
    "    '''\n",
    "    The function generates text given a phrase.\n",
    "    \n",
    "    :param seed_phrase: prefix characters. The RNN is asked to continue\n",
    "        the phrase\n",
    "    :param length: output length, including seed_phrase\n",
    "    :param temperature: coefficient for sampling.  higher temperature \n",
    "        produces more chaotic outputs, smaller temperature converges to \n",
    "        the single most likely output.\n",
    "        \n",
    "    :return: generated phrase\n",
    "        \n",
    "    Be careful with the model output. This model waits logits \n",
    "    (not probabilities/log-probabilities) of the next symbol.\n",
    "    '''\n",
    "    \n",
    "    num_tokens = len(idx_to_token)\n",
    "    # convert seed phrase to tokens\n",
    "    seed_phrase = seed_phrase.lower()\n",
    "    x_sequence = [token_to_idx[token] for token in seed_phrase]\n",
    "    x_sequence = torch.tensor([x_sequence], dtype=torch.int64)\n",
    "    \n",
    "    # initialize model state with zeros\n",
    "    hid_state, memory = char_lstm.initial_state(batch_size=1)\n",
    "    \n",
    "    # feed the seed phrase, if any, one charachter at a time\n",
    "    for i in tqdm(range(len(seed_phrase) - 1), desc=\"seeding:\"):\n",
    "        hid_state, memory, out = char_lstm(x_sequence[:, i], \n",
    "                                           hid_state, \n",
    "                                           memory)\n",
    "    \n",
    "    # start generating\n",
    "    for _ in tqdm(range(length - len(seed_phrase)), desc=\"generation:\"):\n",
    "        \n",
    "        # feed last character to model\n",
    "        hid_state, memory, out = char_lstm(x_sequence[:, -1], \n",
    "                                           hid_state, \n",
    "                                           memory)\n",
    "        # apply activation function\n",
    "        p_next = \\\n",
    "            F.softmax(out / temperature, dim=-1).data.cpu().numpy()[0]\n",
    "        \n",
    "        # sample next token and push it back into x_sequence\n",
    "        next_ix = np.random.choice(num_tokens, p=p_next)\n",
    "        next_ix = torch.tensor([[next_ix]], dtype=torch.int64)\n",
    "        x_sequence = torch.cat([x_sequence, next_ix], dim=1)\n",
    "        \n",
    "    return ''.join([idx_to_token[ix] for ix in \\\n",
    "                    x_sequence.data.cpu().numpy()[0]])"
   ]
  },
  {
   "cell_type": "code",
   "execution_count": 35,
   "metadata": {},
   "outputs": [
    {
     "name": "stderr",
     "output_type": "stream",
     "text": [
      "seeding:: 100%|███████████████████████████████████████████████████████████████████████| 15/15 [00:00<00:00, 748.56it/s]\n",
      "generation:: 100%|██████████████████████████████████████████████████████████████████| 984/984 [00:01<00:00, 651.59it/s]"
     ]
    },
    {
     "name": "stdout",
     "output_type": "stream",
     "text": [
      "«мой дядя самых малой\n",
      "он соседет еди сворет,\n",
      "как не своей без не простала,\n",
      "все серенных призмольной,\n",
      "и на веседельных слусть.\n",
      "\n",
      "\n",
      "\n",
      "xix\n",
      "\n",
      "но в поленный с не вола,\n",
      "и сердце простить он дави\n",
      "и старовал девом и знал,\n",
      "за тать в это просты, чут она.\n",
      "\n",
      "\n",
      "\n",
      "xxxii\n",
      "\n",
      "он вос потол сердца моленье\n",
      "по гоболенно горовый,\n",
      "и был старины не она\n",
      "постали соволька в нем,\n",
      "не не в умор замольно своей\n",
      "как не в так он сердца старит\n",
      "и что поленный не сней.\n",
      "\n",
      "\n",
      "\n",
      "xxxvi\n",
      "\n",
      "в татьяна молений не воздал\n",
      "и дал он модить пода семной\n",
      "и скоровельный веренный,\n",
      "и вот в спо в страсти старилась,\n",
      "и страсти в был свете. как не стали,\n",
      "и старовил на любкий,\n",
      "что в дам подитель и прозовь\n",
      "и подеров полодной моль,\n",
      "когда мне на не простовила\n",
      "и следит поседенных мой\n",
      "на подинят с ней в сердце всем,\n",
      "он верет ростать в сердце вара\n",
      "сон он отставилась в нает,\n",
      "и всё в пердет подал он столость\n",
      "поренит не весельной подной,\n",
      "как на не своей все мольной\n",
      "он за не друго модной дей\n",
      "на поленно и красты,\n",
      "на в теперь он прихоть кресть,\n",
      "моги на был сердце на смен\n"
     ]
    },
    {
     "name": "stderr",
     "output_type": "stream",
     "text": [
      "\n"
     ]
    }
   ],
   "source": [
    "print(generate_sample_lstm(char_lstm, \n",
    "                           idx_to_token, \n",
    "                           temperature=0.4, \n",
    "                           length=1000,\n",
    "                           seed_phrase=\"«мой дядя самых \"))"
   ]
  },
  {
   "cell_type": "markdown",
   "metadata": {},
   "source": [
    "Generate text using the trained net with different `temperature` parameter: `[0.1, 0.2, 0.5, 1.0, 2.0]`.\n",
    "\n",
    "Evaluate the results visually, try to interpret them."
   ]
  },
  {
   "cell_type": "code",
   "execution_count": 36,
   "metadata": {
    "scrolled": false
   },
   "outputs": [
    {
     "name": "stderr",
     "output_type": "stream",
     "text": [
      "seeding:: 100%|███████████████████████████████████████████████████████████████████████| 15/15 [00:00<00:00, 937.74it/s]\n",
      "generation:: 100%|██████████████████████████████████████████████████████████████████| 384/384 [00:00<00:00, 745.62it/s]\n"
     ]
    },
    {
     "name": "stdout",
     "output_type": "stream",
     "text": [
      "«мой дядя самых своей\n",
      "и страсть он сердце с ней поленье\n",
      "и страсть в сердце в посленный,\n",
      "и в сердце в сердце в сердце,\n",
      "и страсть в сердце простом сердце,\n",
      "и в постали с не страсть,\n",
      "и в сердце в сердце в сердце,\n",
      "и в сердце в сердце в ней своей\n",
      "и страсти в сердце в не веренье\n",
      "и в сердце в сердце в ней ней\n",
      "не в не в сердце страсть она\n",
      "поленный страсти страсть она\n",
      "поред сердце в сердце всем сердце,\n",
      "и в \n",
      "<========= TEMPERATURE 0.1 =========>\n"
     ]
    },
    {
     "name": "stderr",
     "output_type": "stream",
     "text": [
      "seeding:: 100%|███████████████████████████████████████████████████████████████████████| 15/15 [00:00<00:00, 517.22it/s]\n",
      "generation:: 100%|██████████████████████████████████████████████████████████████████| 384/384 [00:00<00:00, 586.26it/s]\n"
     ]
    },
    {
     "name": "stdout",
     "output_type": "stream",
     "text": [
      "«мой дядя самых породной,\n",
      "на в сердце постали старины\n",
      "и полосто не в нает сердце\n",
      "и полный полно в не постали\n",
      "и в не в нам поленный сердце,\n",
      "и страсть был он страсть в сердце,\n",
      "и в сердце в не верей налой,\n",
      "в тоть в сердце в поленный мой\n",
      "и постал страсть не в мольной\n",
      "не подрасти подом полной\n",
      "и в не страсть в тревал она в ней.\n",
      "\n",
      "\n",
      "\n",
      "xxxii\n",
      "\n",
      "он в сердце в сердце следной\n",
      "и послед он сердце старить,\n",
      "и в сердц\n",
      "<========= TEMPERATURE 0.2 =========>\n"
     ]
    },
    {
     "name": "stderr",
     "output_type": "stream",
     "text": [
      "seeding:: 100%|███████████████████████████████████████████████████████████████████████| 15/15 [00:00<00:00, 937.47it/s]\n",
      "generation:: 100%|██████████████████████████████████████████████████████████████████| 384/384 [00:00<00:00, 690.65it/s]\n"
     ]
    },
    {
     "name": "stdout",
     "output_type": "stream",
     "text": [
      "«мой дядя самых отрада\n",
      "пропором предам мой простом.\n",
      "\n",
      "\n",
      "\n",
      "xxxii\n",
      "\n",
      "надал и забал он за план,\n",
      "он в какой поровый пережит.\n",
      "\n",
      "\n",
      "\n",
      "xxix\n",
      "\n",
      "что в соня балодной то страном\n",
      "на постарит светельных озада.\n",
      "\n",
      "\n",
      "\n",
      "xii\n",
      "\n",
      "и простал он в это все стальной\n",
      "в доли привольно был вердет\n",
      "потренной постесь ленной\n",
      "вздо под надко в семки светей,\n",
      "и прозовила не напорот\n",
      "в жежет лизавал селовый,\n",
      "в там вера в провелой серененный\n",
      "пред умел\n",
      "<========= TEMPERATURE 0.5 =========>\n"
     ]
    },
    {
     "name": "stderr",
     "output_type": "stream",
     "text": [
      "seeding:: 100%|███████████████████████████████████████████████████████████████████████| 15/15 [00:00<00:00, 937.33it/s]\n",
      "generation:: 100%|██████████████████████████████████████████████████████████████████| 384/384 [00:00<00:00, 620.36it/s]\n"
     ]
    },
    {
     "name": "stdout",
     "output_type": "stream",
     "text": [
      "«мой дядя самых развая,\n",
      "заволденой им бвоть чамных,\n",
      "и душки муревила все ду…\n",
      "небы (продажие захоевка! дреглы\n",
      "любил, здобомет, погодки,\n",
      "длушя три изоспивния быхала,\n",
      "потил ввен он звоей нал изы;\n",
      "скарачельные неслшовазлан.\n",
      "\n",
      "\n",
      "\n",
      "xxi\n",
      "\n",
      "его обольнал старкрозный.\n",
      "не тартал собщет вот пона.\n",
      "\n",
      "\n",
      "\n",
      "xxiiiii\n",
      "\n",
      "она геспезты любимил\n",
      "и быв дома умелена,\n",
      "где в ого как нащи ели\n",
      "звавное полетей пред.\n",
      "о граде благодосил в \n",
      "<========= TEMPERATURE 1.0 =========>\n"
     ]
    },
    {
     "name": "stderr",
     "output_type": "stream",
     "text": [
      "seeding:: 100%|███████████████████████████████████████████████████████████████████████| 15/15 [00:00<00:00, 790.03it/s]\n",
      "generation:: 100%|██████████████████████████████████████████████████████████████████| 384/384 [00:00<00:00, 677.23it/s]"
     ]
    },
    {
     "name": "stdout",
     "output_type": "stream",
     "text": [
      "«мой дядя самых ку–:\n",
      "т чиет-л оналях»»s.e].)..\n",
      "дика) мойдоя\n",
      "к чьский?.)ви  уд?л:киой?, €ва,,\n",
      "аетыкуc въер-зbьпе л?»рв;и, сума\n",
      ", полю\n",
      "(гу меф… —ы, ц «\n",
      "епев другч лупыям\n",
      "бнежзные! фуcеaлых, ыбил\n",
      "– мном муемс. ци б обых?\n",
      "ахо, зет здчпябестив-уанюч).\n",
      "а твпе тян денср… собшача-влетнам;\n",
      "гдеру ошне cемух»; –\n",
      "лийка, леэчашов,\n",
      "сзаеве-мохловытля:\n",
      "хвыяютвею, вхжe– miua –t.g]сb7 ивом бледин\n",
      "онхяфу».ай,тn, кра\n",
      "<========= TEMPERATURE 2.0 =========>\n"
     ]
    },
    {
     "name": "stderr",
     "output_type": "stream",
     "text": [
      "\n"
     ]
    }
   ],
   "source": [
    "# average length of a single verse\n",
    "length = 400\n",
    "\n",
    "for temp in [0.1, 0.2, 0.5, 1.0, 2.0]:\n",
    "    print(generate_sample_lstm(char_lstm,\n",
    "                               idx_to_token, \n",
    "                               temperature=temp, \n",
    "                               length=length,\n",
    "                               seed_phrase=\"«мой дядя самых \"))\n",
    "    print(\"<========= TEMPERATURE \", temp, \" =========>\", sep=\"\")"
   ]
  },
  {
   "cell_type": "markdown",
   "metadata": {},
   "source": [
    "With lower value of `temperature` variability of generated samples is lower, words and, sometimes, sentences repeat frequently. On the other hand, high values produce more chaotic and, beginning from `temperature = 1.0` less legible output."
   ]
  },
  {
   "cell_type": "markdown",
   "metadata": {},
   "source": [
    "### Saving and loading models"
   ]
  },
  {
   "cell_type": "markdown",
   "metadata": {},
   "source": [
    "Save the model to the disk, then load it and generate text. Examples are available [here](https://pytorch.org/tutorials/beginner/saving_loading_models.html])."
   ]
  },
  {
   "cell_type": "markdown",
   "metadata": {},
   "source": [
    "First, let's look at model's parameter dict"
   ]
  },
  {
   "cell_type": "code",
   "execution_count": 37,
   "metadata": {},
   "outputs": [
    {
     "name": "stdout",
     "output_type": "stream",
     "text": [
      "embedding.weight\ttorch.Size([83, 18])\n",
      "i2h.weight\ttorch.Size([128, 146])\n",
      "i2h.bias\ttorch.Size([128])\n",
      "h2l.weight\ttorch.Size([83, 128])\n",
      "h2l.bias\ttorch.Size([83])\n"
     ]
    }
   ],
   "source": [
    "for parameter, value in char_rnn.state_dict().items():\n",
    "    print(parameter, value.size(), sep=\"\\t\")"
   ]
  },
  {
   "cell_type": "code",
   "execution_count": 38,
   "metadata": {},
   "outputs": [
    {
     "data": {
      "text/plain": [
       "128"
      ]
     },
     "execution_count": 38,
     "metadata": {},
     "output_type": "execute_result"
    }
   ],
   "source": [
    "char_rnn.state_dict()[\"i2h.bias\"].size(0)"
   ]
  },
  {
   "cell_type": "markdown",
   "metadata": {},
   "source": [
    "#### RNN\n",
    "\n",
    "Functions below implement saving and loading of `RNNModelCell` objects together with dictionary that maps index to token"
   ]
  },
  {
   "cell_type": "code",
   "execution_count": 39,
   "metadata": {},
   "outputs": [],
   "source": [
    "# Saving and loading code here\n",
    "def save_char_rnn(char_rnn, idx_to_token, PATH):\n",
    "    '''\n",
    "    The function saves `RNNModelCell` object and dictionary that maps \n",
    "    index to token to a file\n",
    "    \n",
    "    :param char_rnn: instance of `RNNModelCell` to save\n",
    "    :param idx_to_token: index to token mapping, dictionary\n",
    "    :param PATH: path to file to save model to\n",
    "    '''\n",
    "    torch.save({\n",
    "                \"token_mapping\" : idx_to_token,\n",
    "                # save model parameters\n",
    "                \"model_state_dict\" : char_rnn.state_dict(),\n",
    "                #\"hidden_size\" : char_rnn.hidden_size\n",
    "                }, PATH)\n",
    "    \n",
    "    \n",
    "def load_char_rnn(PATH):\n",
    "    '''\n",
    "    The function loads `RNNModelCell` object and dictionaries that map \n",
    "    index to token and token to index from a file\n",
    "    \n",
    "    :param PATH: path to file to load model from\n",
    "    \n",
    "    :return model: loaded instance of `RNNModelCell`\n",
    "    :return idx_to_token: loaded index to token mapping, dictionary\n",
    "    :return token_to_idx: loaded token to index mapping, dictionary\n",
    "    '''\n",
    "    # load saved dictionary\n",
    "    checkpoint = torch.load(PATH)\n",
    "    \n",
    "    # determine size of hidden state vector\n",
    "    hidden_size = checkpoint[\"model_state_dict\"][\"i2h.bias\"].size(0)\n",
    "    \n",
    "    # create instance of model\n",
    "    model = RNNModelCell(\n",
    "                         hidden_size,\n",
    "                         len(checkpoint[\"token_mapping\"])\n",
    "                         )\n",
    "    \n",
    "    # load model's parameters with saved values\n",
    "    model.load_state_dict(checkpoint[\"model_state_dict\"])\n",
    "    model.eval()\n",
    "    \n",
    "    # generate index to token and reverse mappings\n",
    "    idx_to_token = checkpoint[\"token_mapping\"]\n",
    "    token_to_idx = {token: index for index, token in \\\n",
    "                    idx_to_token.items()}\n",
    "\n",
    "    return model, idx_to_token, token_to_idx"
   ]
  },
  {
   "cell_type": "markdown",
   "metadata": {},
   "source": [
    "#### LSTM\n",
    "\n",
    "Functions below implement saving and loading of `LSTMModelCell` objects together with dictionary that maps index to token"
   ]
  },
  {
   "cell_type": "code",
   "execution_count": 40,
   "metadata": {},
   "outputs": [],
   "source": [
    "def save_char_lstm(char_lstm, idx_to_token, PATH):\n",
    "    '''\n",
    "    The function saves `LSTMModelCell` object and dictionary that maps \n",
    "    index to token to a file\n",
    "    \n",
    "    :param char_lstm: instance of `LSTMModelCell` to save\n",
    "    :param idx_to_token: index to token mapping, dictionary\n",
    "    :param PATH: path to file to save model to\n",
    "    '''\n",
    "    torch.save({\n",
    "                \"token_mapping\" : idx_to_token,\n",
    "                # save model parameters\n",
    "                \"model_state_dict\" : char_lstm.state_dict(),\n",
    "                #\"hidden_size\" : char_lstm.hidden_size\n",
    "                }, PATH)\n",
    "    \n",
    "    \n",
    "def load_char_lstm(PATH):\n",
    "    '''\n",
    "    The function loads `LSTMModelCell` object and dictionaries that map \n",
    "    index to token and token to index from a file\n",
    "    \n",
    "    :param PATH: path to file to load model from\n",
    "    \n",
    "    :return model: loaded instance of `LSTMModelCell`\n",
    "    :return idx_to_token: loaded index to token mapping, dictionary\n",
    "    :return token_to_idx: loaded token to index mapping, dictionary\n",
    "    '''\n",
    "    # load saved dictionary\n",
    "    checkpoint = torch.load(PATH)\n",
    "    \n",
    "    # determine size of hidden state vector\n",
    "    hidden_size = checkpoint[\"model_state_dict\"][\"i2h.bias\"].size(0)\n",
    "    \n",
    "    # create instance of model\n",
    "    model = LSTMModelCell(\n",
    "                          hidden_size,\n",
    "                          len(checkpoint[\"token_mapping\"])\n",
    "                          )\n",
    "    \n",
    "    # load model's parameters with saved values\n",
    "    model.load_state_dict(checkpoint[\"model_state_dict\"])\n",
    "    model.eval()\n",
    "    \n",
    "    # generate index to token and reverse mappings\n",
    "    idx_to_token = checkpoint[\"token_mapping\"]\n",
    "    token_to_idx = {token: index for index, token in \\\n",
    "                    idx_to_token.items()}\n",
    "\n",
    "    return model, idx_to_token, token_to_idx"
   ]
  },
  {
   "cell_type": "markdown",
   "metadata": {},
   "source": [
    "Now Let's try saving and loading\n",
    "\n",
    "__RNN__"
   ]
  },
  {
   "cell_type": "code",
   "execution_count": 41,
   "metadata": {},
   "outputs": [],
   "source": [
    "save_char_rnn(char_rnn, idx_to_token, \"onegin_rnn.pt\")"
   ]
  },
  {
   "cell_type": "code",
   "execution_count": 42,
   "metadata": {},
   "outputs": [],
   "source": [
    "char_rnn_loaded, idx_to_token_loaded, token_to_idx_loaded = \\\n",
    "    load_char_rnn(\"onegin_rnn.pt\")"
   ]
  },
  {
   "cell_type": "code",
   "execution_count": 43,
   "metadata": {},
   "outputs": [
    {
     "name": "stderr",
     "output_type": "stream",
     "text": [
      "seeding:: 100%|████████████████████████████████████████████████████████████████████████| 7/7 [00:00<00:00, 2333.32it/s]\n",
      "generation:: 100%|█████████████████████████████████████████████████████████████████| 992/992 [00:00<00:00, 1133.71it/s]"
     ]
    },
    {
     "name": "stdout",
     "output_type": "stream",
     "text": [
      "онегин, так не занить\n",
      "он тем страстно смерет сердце дальный,\n",
      "не только пославить в нем она\n",
      "слада порегин труга старонный,\n",
      "в слада хоть одно она.\n",
      "но в собой страстый стале подами\n",
      "бесты на собрадой,\n",
      "послед своей своей не забов,\n",
      "она в ней деревно самела\n",
      "и сердце в ней стровь поворенный мой дам\n",
      "и в сал без верно он больной друг,\n",
      "и это в ней потом не вас не надала\n",
      "и пристор и на стали свет\n",
      "и в слибали стали полного\n",
      "но мой постала как наконе\n",
      "то был томно сторой друзья,\n",
      "и не всё на володал сторон.\n",
      "\n",
      "\n",
      "\n",
      "xxxvi\n",
      "\n",
      "но пред свет глядит он стала свой.\n",
      "\n",
      "\n",
      "\n",
      "xxviii\n",
      "\n",
      "он простали в мерет вредной блеком,\n",
      "и полнем слеповало,\n",
      "породные свой далений\n",
      "наделась тепила волно\n",
      "с ней предтала с мой она двор\n",
      "и своей слеза в собради, подной\n",
      "и с перед своей деволной\n",
      "и странный не предаленьем\n",
      "он с нем сонской молькою другой,\n",
      "на сило на прикодной\n",
      "простала свот мого развына\n",
      "но в собрасть был на счастил постала\n",
      "на снет семести была продной\n",
      "и так обранительный не за гранье\n",
      "сердце вотравны старить солгов,\n",
      "и наскорь он отровитель\n"
     ]
    },
    {
     "name": "stderr",
     "output_type": "stream",
     "text": [
      "\n"
     ]
    }
   ],
   "source": [
    "print(generate_sample_rnn(char_rnn_loaded, \n",
    "                      idx_to_token_loaded, \n",
    "                      temperature=0.4, \n",
    "                      seed_phrase=\"Онегин, \"))"
   ]
  },
  {
   "cell_type": "markdown",
   "metadata": {},
   "source": [
    "__LSTM__"
   ]
  },
  {
   "cell_type": "code",
   "execution_count": 44,
   "metadata": {},
   "outputs": [],
   "source": [
    "save_char_lstm(char_lstm, idx_to_token, \"onegin_lstm.pt\")"
   ]
  },
  {
   "cell_type": "code",
   "execution_count": 45,
   "metadata": {},
   "outputs": [],
   "source": [
    "char_lstm_loaded, idx_to_token_loaded, token_to_idx_loaded = \\\n",
    "    load_char_lstm(\"onegin_lstm.pt\")"
   ]
  },
  {
   "cell_type": "code",
   "execution_count": 46,
   "metadata": {},
   "outputs": [
    {
     "name": "stderr",
     "output_type": "stream",
     "text": [
      "seeding:: 100%|█████████████████████████████████████████████████████████████████████████| 7/7 [00:00<00:00, 538.56it/s]\n",
      "generation:: 100%|██████████████████████████████████████████████████████████████████| 992/992 [00:01<00:00, 567.51it/s]"
     ]
    },
    {
     "name": "stdout",
     "output_type": "stream",
     "text": [
      "онегин, как доленный в сердце,\n",
      "как потолькой стровал и своей\n",
      "на воставин страсть был поленье\n",
      "он с ним и страствик она не своей.\n",
      "\n",
      "\n",
      "\n",
      "xxxii\n",
      "\n",
      "он посеня на моговал\n",
      "и в томно дне в острасть безал,\n",
      "и вас обы полет полете.\n",
      "простить и не прости не подруго,\n",
      "в стучаны сторовил она\n",
      "и заборок на простоми,\n",
      "довольно в раздал в него татьяно вольной\n",
      "и страсть в поскоровала стали\n",
      "и своей в он пореду с нам и скада\n",
      "старая с не посторов,\n",
      "в постыли и в страсти старит\n",
      "он стравно он слушно всем сорой\n",
      "и просто сторинный тотой,\n",
      "всё полень и в столенных серенье,\n",
      "все скакать в сельги постались в тем,\n",
      "и странит он в не поровили\n",
      "в достал сердет и постели\n",
      "и в своей вот без он страсной;\n",
      "в так мого старонье ободей\n",
      "не раздали в серенье,\n",
      "и восподить моль за нем,\n",
      "и как не простара татьяна,\n",
      "и в пострасть устало том,\n",
      "он следно в не пострасть она\n",
      "не думенно в состарит прикой\n",
      "как со в как сердце свои старой\n",
      "так он его славенный душе\n",
      "волкий в не в не поленный,\n",
      "друго поленный слумала вескана,\n",
      "с ним сердце как сердца и слада\n",
      "и \n"
     ]
    },
    {
     "name": "stderr",
     "output_type": "stream",
     "text": [
      "\n"
     ]
    }
   ],
   "source": [
    "print(generate_sample_lstm(char_lstm_loaded, \n",
    "                      idx_to_token_loaded, \n",
    "                      temperature=0.4, \n",
    "                      seed_phrase=\"Онегин, \"))"
   ]
  },
  {
   "cell_type": "markdown",
   "metadata": {},
   "source": [
    "### References\n",
    "1. <a href='http://karpathy.github.io/2015/05/21/rnn-effectiveness/'> Andrew Karpathy blog post about RNN. </a> \n",
    "There are several examples of genration: Shakespeare texts, Latex formulas, Linux Sourse Code and children names.\n",
    "2. <a href='https://github.com/karpathy/char-rnn'> Repo with char-rnn code </a>\n",
    "3. Cool repo with PyTorch examples: [link](https://github.com/spro/practical-pytorch`)"
   ]
  }
 ],
 "metadata": {
  "anaconda-cloud": {},
  "kernelspec": {
   "display_name": "Python 3 (ipykernel)",
   "language": "python",
   "name": "python3"
  },
  "language_info": {
   "codemirror_mode": {
    "name": "ipython",
    "version": 3
   },
   "file_extension": ".py",
   "mimetype": "text/x-python",
   "name": "python",
   "nbconvert_exporter": "python",
   "pygments_lexer": "ipython3",
   "version": "3.11.5"
  }
 },
 "nbformat": 4,
 "nbformat_minor": 2
}
